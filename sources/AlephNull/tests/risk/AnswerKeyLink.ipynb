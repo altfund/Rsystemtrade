{
 "metadata": {
  "name": "AnswerKeyAnnotations"
 },
 "nbformat": 3,
 "nbformat_minor": 0,
 "worksheets": [
  {
   "cells": [
    {
     "cell_type": "code",
     "collapsed": true,
     "input": [
      "#\n",
      "# Copyright 2013 Quantopian, Inc.\n",
      "#\n",
      "# Licensed under the Apache License, Version 2.0 (the \"License\");\n",
      "# you may not use this file except in compliance with the License.\n",
      "# You may obtain a copy of the License at\n",
      "#\n",
      "#     http://www.apache.org/licenses/LICENSE-2.0\n",
      "#\n",
      "# Unless required by applicable law or agreed to in writing, software\n",
      "# distributed under the License is distributed on an \"AS IS\" BASIS,\n",
      "# WITHOUT WARRANTIES OR CONDITIONS OF ANY KIND, either express or implied.\n",
      "# See the License for the specific language governing permissions and\n",
      "# limitations under the License.\n",
      "\n",
      "from annotation_utils import Markdown\n",
      "import answer_key"
     ],
     "language": "python",
     "outputs": [],
     "prompt_number": 1
    },
    {
     "cell_type": "code",
     "collapsed": false,
     "input": [
      "Markdown(\"\"\"\n",
      "Download link for latest answer key: [{latest_answer_key_url}]({latest_answer_key_url})\n",
      "\"\"\".format(latest_answer_key_url=answer_key.LATEST_ANSWER_KEY_URL))"
     ],
     "language": "python",
     "outputs": [
      {
       "html": [
        "<p>Download link for latest answer key: <a href=\"https://s3.amazonaws.com/zipline-test-data/risk/cc507b6fca18aabadac69657181edd4e/risk-answer-key.xlsx\">https://s3.amazonaws.com/zipline-test-data/risk/5b48e6a70181d73ecb7f07df5a3092e2/risk-answer-key.xlsx</a></p>"
       ],
       "output_type": "pyout",
       "prompt_number": 2,
       "text": [
        "'\\nDownload link for latest answer key: [https://s3.amazonaws.com/zipline-test-data/risk/cc507b6fca18aabadac69657181edd4e/risk-answer-key.xlsx](https://s3.amazonaws.com/zipline-test-data/risk/5b48e6a70181d73ecb7f07df5a3092e2/risk-answer-key.xlsx)\\n'"
       ]
      }
     ],
     "prompt_number": 2
    }
   ]
  }
 ]
}